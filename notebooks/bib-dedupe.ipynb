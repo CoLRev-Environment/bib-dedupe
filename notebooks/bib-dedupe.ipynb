{
 "cells": [
  {
   "cell_type": "markdown",
   "id": "db5ed449",
   "metadata": {},
   "source": [
    "# Evaluation of bib-dedupe"
   ]
  },
  {
   "cell_type": "code",
   "execution_count": 1,
   "id": "4a2f38c4",
   "metadata": {},
   "outputs": [],
   "source": [
    "from colrev.ops.dedupe_benchmark import DedupeBenchmarker\n",
    "from bib_dedupe.bib_dedupe import BibDeduper"
   ]
  },
  {
   "cell_type": "code",
   "execution_count": 17,
   "id": "5f4d28f0",
   "metadata": {},
   "outputs": [],
   "source": [
    "dedupe_benchmark = DedupeBenchmarker(benchmark_path=\"../tests/data/wagner2023\")\n",
    "records_df = dedupe_benchmark.get_records_for_dedupe()"
   ]
  },
  {
   "cell_type": "markdown",
   "id": "bbcf3442",
   "metadata": {},
   "source": [
    "## Apply dedupe"
   ]
  },
  {
   "cell_type": "code",
   "execution_count": 4,
   "id": "829cf09f",
   "metadata": {},
   "outputs": [
    {
     "name": "stdout",
     "output_type": "stream",
     "text": [
      "Blocked        9 pairs with ['isbn']\n",
      "Blocked      102 pairs with ['title', 'abstract']\n",
      "Blocked    28225 pairs with ['year', 'volume', 'number']\n",
      "Blocked      445 pairs with ['doi']\n",
      "Blocked      959 pairs with ['author', 'year']\n",
      "Blocked      927 pairs with ['title', 'volume']\n",
      "Blocked     1058 pairs with ['title', 'year']\n",
      "Blocked    10022 pairs with ['title', 'container_title']\n",
      "Blocked      397 pairs with ['year', 'volume', 'pages']\n",
      "Blocked      766 pairs with ['title', 'pages']\n",
      "Blocked     4123 pairs with ['title', 'author']\n",
      "Blocked      453 pairs with ['container_title', 'volume', 'pages']\n",
      "Blocked      361 pairs with ['year', 'number', 'pages']\n",
      "TODO : continue here!\n"
     ]
    }
   ],
   "source": [
    "dedupe_instance = BibDeduper()\n",
    "actual_blocked_df = dedupe_instance.block_pairs_for_deduplication(records_df=records_df)\n",
    "matches = dedupe_instance.identify_true_matches(actual_blocked_df)"
   ]
  },
  {
   "cell_type": "code",
   "execution_count": null,
   "id": "b05525b0",
   "metadata": {},
   "outputs": [],
   "source": [
    "to_drop = [o for l in matches[\"duplicate_origin_sets\"] for o in l[1:]]\n",
    "merged_df = records_df[~records_df['colrev_origin'].isin(to_drop)]"
   ]
  },
  {
   "cell_type": "markdown",
   "id": "6a1f240b",
   "metadata": {},
   "source": [
    "## Evaluate"
   ]
  },
  {
   "cell_type": "code",
   "execution_count": 22,
   "id": "0f1d9276",
   "metadata": {},
   "outputs": [
    {
     "data": {
      "text/plain": [
       "{'TP': 300,\n",
       " 'FP': 0,\n",
       " 'FN': 60,\n",
       " 'TN': 6799,\n",
       " 'specificity': 1.0,\n",
       " 'sensitivity': 0.8333333333333334,\n",
       " 'precision': 1.0,\n",
       " 'f1': 0.9090909090909091}"
      ]
     },
     "execution_count": 22,
     "metadata": {},
     "output_type": "execute_result"
    }
   ],
   "source": [
    "result = dedupe_benchmark.compare_dedupe_id(records_df=records_df, merged_df=merged_df)\n",
    "result"
   ]
  }
 ],
 "metadata": {
  "kernelspec": {
   "display_name": "Python 3 (ipykernel)",
   "language": "python",
   "name": "python3"
  },
  "language_info": {
   "codemirror_mode": {
    "name": "ipython",
    "version": 3
   },
   "file_extension": ".py",
   "mimetype": "text/x-python",
   "name": "python",
   "nbconvert_exporter": "python",
   "pygments_lexer": "ipython3",
   "version": "3.8.10"
  }
 },
 "nbformat": 4,
 "nbformat_minor": 5
}
