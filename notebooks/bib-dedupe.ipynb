{
 "cells": [
  {
   "cell_type": "markdown",
   "id": "db5ed449",
   "metadata": {},
   "source": [
    "# Evaluation of bib-dedupe"
   ]
  },
  {
   "cell_type": "code",
   "execution_count": 1,
   "id": "4a2f38c4",
   "metadata": {},
   "outputs": [],
   "source": [
    "from colrev.ops.dedupe_benchmark import DedupeBenchmarker\n",
    "from bib_dedupe.bib_dedupe import BibDeduper\n",
    "from bib_dedupe.util import BibDedupeUtil"
   ]
  },
  {
   "cell_type": "code",
   "execution_count": 2,
   "id": "5f4d28f0",
   "metadata": {},
   "outputs": [
    {
     "name": "stdout",
     "output_type": "stream",
     "text": [
      "setting missing status\n",
      "Blocked        0 pairs with ['doi']\n",
      "Blocked        0 pairs with ['isbn']\n",
      "Blocked        0 pairs with ['title', 'abstract']\n",
      "Blocked      631 pairs with ['first_author', 'year']\n",
      "Blocked      466 pairs with ['year', 'volume', 'pages']\n",
      "Blocked      431 pairs with ['title', 'volume']\n",
      "Blocked      445 pairs with ['title', 'year']\n",
      "Blocked      416 pairs with ['title', 'pages']\n",
      "Blocked        0 pairs with ['year', 'volume', 'number']\n",
      "Blocked      439 pairs with ['title', 'first_author']\n",
      "Blocked      269 pairs with ['title', 'container_title']\n",
      "Blocked        0 pairs with ['year', 'number', 'pages']\n",
      "Blocked      270 pairs with ['container_title', 'volume', 'pages']\n",
      "TODO : continue here!\n",
      "Blocked        9 pairs with ['isbn']\n",
      "Blocked      102 pairs with ['title', 'abstract']\n",
      "Blocked    28225 pairs with ['year', 'volume', 'number']\n",
      "Blocked     2687 pairs with ['first_author', 'year']\n",
      "Blocked      445 pairs with ['doi']\n",
      "Blocked      930 pairs with ['title', 'volume']\n",
      "Blocked     1061 pairs with ['title', 'year']\n",
      "Blocked     5594 pairs with ['title', 'container_title']\n",
      "Blocked      397 pairs with ['year', 'volume', 'pages']\n",
      "Blocked     4291 pairs with ['title', 'first_author']\n",
      "Blocked      361 pairs with ['year', 'number', 'pages']\n",
      "Blocked      766 pairs with ['title', 'pages']\n",
      "Blocked      383 pairs with ['container_title', 'volume', 'pages']\n",
      "TODO : continue here!\n",
      "setting missing status\n",
      "Blocked        0 pairs with ['doi']Blocked        0 pairs with ['isbn']\n",
      "\n",
      "Blocked        0 pairs with ['title', 'abstract']\n",
      "Blocked     1257 pairs with ['year', 'volume', 'number']\n",
      "Blocked      463 pairs with ['title', 'year']\n",
      "Blocked      452 pairs with ['title', 'volume']Blocked      607 pairs with ['first_author', 'year']\n",
      "\n",
      "Blocked      452 pairs with ['year', 'volume', 'pages']\n",
      "Blocked      458 pairs with ['title', 'first_author']\n",
      "Blocked      429 pairs with ['title', 'pages']\n",
      "Blocked      406 pairs with ['title', 'container_title']\n",
      "Blocked      419 pairs with ['year', 'number', 'pages']\n",
      "Blocked      403 pairs with ['container_title', 'volume', 'pages']\n",
      "TODO : continue here!\n",
      "setting missing status\n",
      "Blocked        0 pairs with ['doi']\n",
      "Blocked        0 pairs with ['isbn']\n",
      "Blocked        0 pairs with ['title', 'abstract']\n",
      "Blocked     1574 pairs with ['year', 'volume', 'number']\n",
      "Blocked      494 pairs with ['first_author', 'year']\n",
      "Blocked      104 pairs with ['title', 'volume']\n",
      "Blocked      120 pairs with ['title', 'year']\n",
      "Blocked      125 pairs with ['title', 'first_author']\n",
      "Blocked       92 pairs with ['title', 'container_title']\n",
      "Blocked      129 pairs with ['year', 'volume', 'pages']\n",
      "Blocked       89 pairs with ['title', 'pages']\n",
      "Blocked      114 pairs with ['year', 'number', 'pages']\n",
      "Blocked      108 pairs with ['container_title', 'volume', 'pages']\n",
      "TODO : continue here!\n",
      "setting missing status\n",
      "Blocked        0 pairs with ['doi']Blocked        0 pairs with ['isbn']\n",
      "\n",
      "Blocked        0 pairs with ['title', 'abstract']\n",
      "Blocked        0 pairs with ['year', 'volume', 'number']\n",
      "Blocked        0 pairs with ['year', 'number', 'pages']\n",
      "Blocked     1275 pairs with ['first_author', 'year']\n",
      "Blocked      836 pairs with ['year', 'volume', 'pages']\n",
      "Blocked      787 pairs with ['title', 'volume']\n",
      "Blocked      803 pairs with ['title', 'year']\n",
      "Blocked      783 pairs with ['title', 'first_author']\n",
      "Blocked      675 pairs with ['title', 'container_title']\n",
      "Blocked      729 pairs with ['title', 'pages']\n",
      "Blocked      724 pairs with ['container_title', 'volume', 'pages']\n",
      "TODO : continue here!\n"
     ]
    }
   ],
   "source": [
    "for benchmark_path in [\"respiratory\", \"wagner2021\", \"stroke\", \"haematology\", \"cytology_screening\"]:\n",
    "\n",
    "    dedupe_benchmark = DedupeBenchmarker(benchmark_path=f\"../tests/data/{benchmark_path}\")\n",
    "    records_df = dedupe_benchmark.get_records_for_dedupe()\n",
    "    \n",
    "    dedupe_instance = BibDeduper()\n",
    "    actual_blocked_df = dedupe_instance.block_pairs_for_deduplication(records_df=records_df)\n",
    "    matches = dedupe_instance.identify_true_matches(actual_blocked_df)\n",
    "    \n",
    "    to_drop = [o for l in matches[\"duplicate_origin_sets\"] for o in l[1:]]\n",
    "    merged_df = records_df[~records_df['colrev_origin'].isin(to_drop)]\n",
    "    \n",
    "    result = dedupe_benchmark.compare_dedupe_id(records_df=records_df, merged_df=merged_df)\n",
    "    result\n",
    "    \n",
    "    bd_util = BibDedupeUtil()\n",
    "    bd_util.append_to_output(result, package_name=\"bib-dedupe\")"
   ]
  }
 ],
 "metadata": {
  "kernelspec": {
   "display_name": "Python 3 (ipykernel)",
   "language": "python",
   "name": "python3"
  },
  "language_info": {
   "codemirror_mode": {
    "name": "ipython",
    "version": 3
   },
   "file_extension": ".py",
   "mimetype": "text/x-python",
   "name": "python",
   "nbconvert_exporter": "python",
   "pygments_lexer": "ipython3",
   "version": "3.8.10"
  }
 },
 "nbformat": 4,
 "nbformat_minor": 5
}
