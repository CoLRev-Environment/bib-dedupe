{
 "cells": [
  {
   "cell_type": "markdown",
   "id": "3c4222db",
   "metadata": {},
   "source": [
    "## Bib-dedupe: debug individual cases"
   ]
  },
  {
   "cell_type": "code",
   "execution_count": null,
   "id": "49c50680",
   "metadata": {},
   "outputs": [],
   "source": [
    "from colrev.ops.dedupe_benchmark import DedupeBenchmarker\n",
    "from bib_dedupe.bib_dedupe import BibDeduper\n",
    "from pathlib import Path"
   ]
  },
  {
   "cell_type": "code",
   "execution_count": null,
   "id": "2f982fef",
   "metadata": {},
   "outputs": [],
   "source": [
    "dedupe_benchmark = DedupeBenchmarker(\n",
    "    benchmark_path=Path(\"../tests/data/wagner2021\"),\n",
    ")\n",
    "records_df = dedupe_benchmark.get_records_for_dedupe()"
   ]
  },
  {
   "cell_type": "code",
   "execution_count": null,
   "id": "825fe9f0",
   "metadata": {},
   "outputs": [],
   "source": [
    "dedupe_instance = BibDeduper()\n",
    "actual_blocked_df = dedupe_instance.block_pairs_for_deduplication(records_df=records_df)\n",
    "matches = dedupe_instance.identify_true_matches(actual_blocked_df)"
   ]
  },
  {
   "cell_type": "markdown",
   "id": "ba2cfeb4",
   "metadata": {},
   "source": [
    "## Evaluate"
   ]
  },
  {
   "cell_type": "code",
   "execution_count": null,
   "id": "8acec616",
   "metadata": {},
   "outputs": [],
   "source": [
    "results = dedupe_benchmark.compare(\n",
    "    blocked_df=actual_blocked_df,\n",
    "    predicted=matches['duplicate_origin_sets'],\n",
    ")\n",
    "results\n",
    "# Note: the results are pair-based (compare() instead of compare_dedupe_id())"
   ]
  },
  {
   "cell_type": "code",
   "execution_count": null,
   "id": "0383ac64",
   "metadata": {},
   "outputs": [],
   "source": [
    "FP_match_cases = dedupe_benchmark.get_cases(origin_pairs=results[\"blocks_FN_list\"])\n",
    "FP_match_cases.to_csv(\"export.csv\")\n",
    "FP_match_cases"
   ]
  },
  {
   "cell_type": "markdown",
   "id": "85716b66",
   "metadata": {},
   "source": [
    "## Debug individual cases"
   ]
  },
  {
   "cell_type": "code",
   "execution_count": null,
   "id": "d5ff09d7",
   "metadata": {},
   "outputs": [],
   "source": [
    "prepared_records_df = dedupe_benchmark.get_records_for_dedupe()\n",
    "origin1, origin2 = results[\"blocks_FN_list\"][1]\n",
    "\n",
    "selected_prepared_records_df = prepared_records_df[\n",
    "                    prepared_records_df[\"colrev_origin\"].apply(\n",
    "                        lambda x: origin1 in x or origin2 in x\n",
    "                    )\n",
    "                ]\n",
    "selected_prepared_records_df"
   ]
  },
  {
   "cell_type": "code",
   "execution_count": null,
   "id": "028e2952",
   "metadata": {},
   "outputs": [],
   "source": [
    "dedupe_instance.debug = True # to print details\n",
    "\n",
    "actual_blocked_df = dedupe_instance.block_pairs_for_deduplication(records_df=selected_prepared_records_df)\n",
    "matches = dedupe_instance.identify_true_matches(actual_blocked_df)"
   ]
  }
 ],
 "metadata": {
  "kernelspec": {
   "display_name": "Python 3 (ipykernel)",
   "language": "python",
   "name": "python3"
  },
  "language_info": {
   "codemirror_mode": {
    "name": "ipython",
    "version": 3
   },
   "file_extension": ".py",
   "mimetype": "text/x-python",
   "name": "python",
   "nbconvert_exporter": "python",
   "pygments_lexer": "ipython3",
   "version": "3.8.10"
  }
 },
 "nbformat": 4,
 "nbformat_minor": 5
}
