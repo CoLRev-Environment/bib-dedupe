{
 "cells": [
  {
   "cell_type": "markdown",
   "id": "adf95cb3",
   "metadata": {},
   "source": [
    "# Comparison"
   ]
  },
  {
   "cell_type": "code",
   "execution_count": 4,
   "id": "b21f3aff",
   "metadata": {},
   "outputs": [],
   "source": [
    "import pandas as pd\n",
    "from pathlib import Path\n",
    "import matplotlib.pyplot as plt"
   ]
  },
  {
   "cell_type": "code",
   "execution_count": 6,
   "id": "02fc1d29",
   "metadata": {},
   "outputs": [],
   "source": [
    "results_df = pd.read_csv(\"../output/evaluation.csv\")\n",
    "grouped_df = results_df.groupby([\"package\", \"dataset\"], group_keys=True).apply(lambda x: x.sort_values(\"time\").tail(1)).reset_index(drop=True)\n",
    "\n",
    "plt.figure(figsize=(16, 4))\n",
    "ax1 = plt.subplot(121)\n",
    "grouped_df.plot(ax=ax1, x=\"package\", y=\"false_positive_rate\", kind=\"barh\")\n",
    "plt.title(\"False positive rate by package\")\n",
    "plt.legend().remove()\n",
    "plt.ylabel(\"\")\n",
    "for p in ax1.patches:\n",
    "    ax1.annotate(f\"{p.get_width():.2f}\", (p.get_width(), p.get_y() + p.get_height() / 2), ha='left', va='center')\n",
    "\n",
    "ax2 = plt.subplot(122)\n",
    "grouped_df.plot(ax=ax2, x=\"package\", y=\"sensitivity\", kind=\"barh\")\n",
    "plt.title(\"Sensitivity by package\")\n",
    "plt.legend().remove()\n",
    "plt.ylabel(\"\")\n",
    "for p in ax2.patches:\n",
    "    ax2.annotate(f\"{p.get_width():.2f}\", (p.get_width(), p.get_y() + p.get_height() / 2), ha='left', va='center')\n",
    "\n",
    "latest_time = results_df[\"time\"].max()\n",
    "plt.figtext(0.5, 0.001, f\"Time of last evaluation run: {latest_time}\", ha='center', fontsize=10)\n",
    "\n",
    "plt.tight_layout()\n",
    "# plt.show()\n",
    "plt.savefig(str(Path(\"../output/evaluation.png\")))\n",
    "plt.close()"
   ]
  }
 ],
 "metadata": {
  "kernelspec": {
   "display_name": "Python 3 (ipykernel)",
   "language": "python",
   "name": "python3"
  },
  "language_info": {
   "codemirror_mode": {
    "name": "ipython",
    "version": 3
   },
   "file_extension": ".py",
   "mimetype": "text/x-python",
   "name": "python",
   "nbconvert_exporter": "python",
   "pygments_lexer": "ipython3",
   "version": "3.8.10"
  }
 },
 "nbformat": 4,
 "nbformat_minor": 5
}
