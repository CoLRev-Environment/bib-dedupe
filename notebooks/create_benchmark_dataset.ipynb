{
 "cells": [
  {
   "cell_type": "markdown",
   "id": "da69bd49",
   "metadata": {},
   "source": [
    "# Create benchmark dataset from colrev project"
   ]
  },
  {
   "cell_type": "code",
   "execution_count": null,
   "id": "4e557ddd",
   "metadata": {},
   "outputs": [],
   "source": [
    "from colrev.ops.dedupe_benchmark import DedupeBenchmarker\n",
    "from bib_dedupe.bib_dedupe import BibDeduper\n",
    "from pathlib import Path"
   ]
  },
  {
   "cell_type": "markdown",
   "id": "cc0b4ad9",
   "metadata": {},
   "source": [
    "## Create benchmark dataset from history"
   ]
  },
  {
   "cell_type": "code",
   "execution_count": null,
   "id": "184873dc",
   "metadata": {},
   "outputs": [],
   "source": [
    "dedupe_benchmark = DedupeBenchmarker(\n",
    "    colrev_project_path=Path('/home/gerit/ownCloud/data/2020-DecProcEx/dec-proc-ex-colrev'),\n",
    "    benchmark_path=Path(\"../tests/data/digital_work\"),\n",
    "    regenerate_benchmark_from_history=True\n",
    ")"
   ]
  },
  {
   "cell_type": "markdown",
   "id": "aaec8b74",
   "metadata": {},
   "source": [
    "## Export for pytests"
   ]
  },
  {
   "cell_type": "code",
   "execution_count": null,
   "id": "af5333af",
   "metadata": {},
   "outputs": [],
   "source": [
    "from bib_dedupe.util import BibDedupeUtil\n",
    "bd_util = BibDedupeUtil()\n",
    "bd_util.export_for_pytest(records_df=dedupe_benchmark.records_pre_merged_df, true_merged_origins=dedupe_benchmark.true_merged_origins, benchmark_path=Path(\"../tests/data/wagner2021\") )"
   ]
  }
 ],
 "metadata": {
  "kernelspec": {
   "display_name": "Python 3 (ipykernel)",
   "language": "python",
   "name": "python3"
  },
  "language_info": {
   "codemirror_mode": {
    "name": "ipython",
    "version": 3
   },
   "file_extension": ".py",
   "mimetype": "text/x-python",
   "name": "python",
   "nbconvert_exporter": "python",
   "pygments_lexer": "ipython3",
   "version": "3.8.10"
  }
 },
 "nbformat": 4,
 "nbformat_minor": 5
}
