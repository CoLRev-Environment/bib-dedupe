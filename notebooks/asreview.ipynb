{
 "cells": [
  {
   "cell_type": "markdown",
   "id": "4a9b6149",
   "metadata": {},
   "source": [
    "# Evaluation of asreview"
   ]
  },
  {
   "cell_type": "code",
   "execution_count": 1,
   "id": "1dbb43c2",
   "metadata": {},
   "outputs": [],
   "source": [
    "from asreview.data import load_data\n",
    "from colrev.ops.dedupe_benchmark import DedupeBenchmarker\n",
    "import pandas as pd\n",
    "from asreview.data import ASReviewData"
   ]
  },
  {
   "cell_type": "code",
   "execution_count": 2,
   "id": "94fa764f",
   "metadata": {},
   "outputs": [],
   "source": [
    "dedupe_benchmark = DedupeBenchmarker(benchmark_path=\"../tests/data/wagner2023\")"
   ]
  },
  {
   "cell_type": "markdown",
   "id": "ddf025a6",
   "metadata": {},
   "source": [
    "## Apply dedupe"
   ]
  },
  {
   "cell_type": "code",
   "execution_count": 3,
   "id": "fec13cc2",
   "metadata": {},
   "outputs": [],
   "source": [
    "records_df = dedupe_benchmark.get_records_for_dedupe()\n",
    "records_df['title'] = records_df['title'].astype(str)\n",
    "records_df['abstract'] = records_df['abstract'].astype(str)\n",
    "\n",
    "asdata = ASReviewData(records_df.reset_index())\n",
    "merged_df =asdata.drop_duplicates()"
   ]
  },
  {
   "cell_type": "markdown",
   "id": "c0f4a7d8",
   "metadata": {},
   "source": [
    "## Evaluate"
   ]
  },
  {
   "cell_type": "code",
   "execution_count": 4,
   "id": "22ed0b03",
   "metadata": {},
   "outputs": [
    {
     "data": {
      "text/plain": [
       "{'TP': 333,\n",
       " 'FP': 218,\n",
       " 'FN': 27,\n",
       " 'TN': 6581,\n",
       " 'specificity': 0.9679364612443007,\n",
       " 'sensitivity': 0.925,\n",
       " 'precision': 0.604355716878403,\n",
       " 'f1': 0.7310647639956093}"
      ]
     },
     "execution_count": 4,
     "metadata": {},
     "output_type": "execute_result"
    }
   ],
   "source": [
    "result = dedupe_benchmark.compare_dedupe_id(records_df=records_df, merged_df=merged_df)\n",
    "result"
   ]
  },
  {
   "cell_type": "code",
   "execution_count": null,
   "id": "541c0fc5",
   "metadata": {},
   "outputs": [],
   "source": [
    "import datetime\n",
    "current_time = datetime.datetime.now()\n",
    "formatted_time = current_time.strftime('%Y-%m-%d %H:%M')\n",
    "\n",
    "result[\"package\"] = \"asreview\"\n",
    "result[\"time\"] = formatted_time\n",
    "result_item_df = pd.DataFrame.from_records([result])\n",
    "\n",
    "results_df = pd.read_csv(\"../output/evaluation.csv\")\n",
    "results_df = pd.concat([results_df, result_item_df])\n",
    "results_df.to_csv(\"../output/evaluation.csv\", index=False)"
   ]
  }
 ],
 "metadata": {
  "kernelspec": {
   "display_name": "Python 3 (ipykernel)",
   "language": "python",
   "name": "python3"
  },
  "language_info": {
   "codemirror_mode": {
    "name": "ipython",
    "version": 3
   },
   "file_extension": ".py",
   "mimetype": "text/x-python",
   "name": "python",
   "nbconvert_exporter": "python",
   "pygments_lexer": "ipython3",
   "version": "3.8.10"
  }
 },
 "nbformat": 4,
 "nbformat_minor": 5
}
