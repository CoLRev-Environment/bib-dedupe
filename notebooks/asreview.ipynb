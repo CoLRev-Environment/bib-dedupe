{
 "cells": [
  {
   "cell_type": "markdown",
   "id": "4a9b6149",
   "metadata": {},
   "source": [
    "# Evaluation of asreview"
   ]
  },
  {
   "cell_type": "code",
   "execution_count": 2,
   "id": "1dbb43c2",
   "metadata": {},
   "outputs": [],
   "source": [
    "from asreview.data import load_data, ASReviewData\n",
    "from colrev.ops.dedupe_benchmark import DedupeBenchmarker\n",
    "import bib_dedupe.util"
   ]
  },
  {
   "cell_type": "code",
   "execution_count": 3,
   "id": "94fa764f",
   "metadata": {},
   "outputs": [
    {
     "name": "stdout",
     "output_type": "stream",
     "text": [
      "setting missing status\n",
      "setting missing status\n",
      "setting missing status\n",
      "setting missing status\n"
     ]
    }
   ],
   "source": [
    "for benchmark_path in [\"respiratory\", \"wagner2021\", \"stroke\", \"haematology\", \"cytology_screening\"]:\n",
    "    \n",
    "    dedupe_benchmark = DedupeBenchmarker(benchmark_path=f\"../tests/data/{benchmark_path}\")\n",
    "    records_df = dedupe_benchmark.get_records_for_dedupe()\n",
    "    \n",
    "    asdata = ASReviewData(records_df)\n",
    "    merged_df = asdata.drop_duplicates()\n",
    "    result = dedupe_benchmark.compare_dedupe_id(records_df=records_df, merged_df=merged_df)\n",
    "    result\n",
    "    bd_util = bib_dedupe.util.BibDedupeUtil()\n",
    "    bd_util.append_to_output(result, package_name=\"asreview\")"
   ]
  }
 ],
 "metadata": {
  "kernelspec": {
   "display_name": "Python 3 (ipykernel)",
   "language": "python",
   "name": "python3"
  },
  "language_info": {
   "codemirror_mode": {
    "name": "ipython",
    "version": 3
   },
   "file_extension": ".py",
   "mimetype": "text/x-python",
   "name": "python",
   "nbconvert_exporter": "python",
   "pygments_lexer": "ipython3",
   "version": "3.8.10"
  }
 },
 "nbformat": 4,
 "nbformat_minor": 5
}
