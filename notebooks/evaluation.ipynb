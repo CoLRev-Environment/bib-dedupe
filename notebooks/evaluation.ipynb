{
 "cells": [
  {
   "cell_type": "markdown",
   "id": "db5ed449",
   "metadata": {},
   "source": [
    "# Evaluation"
   ]
  },
  {
   "cell_type": "code",
   "execution_count": 1,
   "id": "4a2f38c4",
   "metadata": {},
   "outputs": [],
   "source": [
    "from bib_dedupe.dedupe_benchmark import DedupeBenchmarker\n",
    "from bib_dedupe.bib_dedupe import block, match, merge, prep\n",
    "from bib_dedupe.util import BibDedupeUtil\n",
    "import bib_dedupe.cluster\n",
    "from asreview.data import load_data, ASReviewData\n",
    "from datetime import datetime\n",
    "import pandas as pd"
   ]
  },
  {
   "cell_type": "code",
   "execution_count": 2,
   "id": "5f4d28f0",
   "metadata": {
    "scrolled": false
   },
   "outputs": [
    {
     "name": "stdout",
     "output_type": "stream",
     "text": [
      "Dataset: digital_work\n",
      "Loaded 7159 records\n",
      "Prep started at 2023-12-21 20:37:31\n",
      "Prep completed after: 10.86 seconds\n",
      "Block started at 2023-12-21 20:37:41\n",
      "Blocked    24194 pairs with {'volume', 'container_title_short', 'number'}\n",
      "Blocked   106595 pairs with {'volume', 'year', 'container_title_short'}\n",
      "Blocked    10645 pairs with {'author_first', 'container_title_short'}\n",
      "Blocked     2677 pairs with {'author_first', 'year'}\n",
      "Blocked    28210 pairs with {'volume', 'year', 'number'}\n",
      "Blocked      932 pairs with {'volume', 'title_short'}\n",
      "Blocked     4290 pairs with {'author_first', 'title_short'}\n",
      "Blocked     5620 pairs with {'container_title_short', 'title_short'}\n",
      "Blocked      763 pairs with {'pages', 'title_short'}\n",
      "Blocked     1059 pairs with {'year', 'title_short'}\n",
      "Blocked      111 pairs with {'abstract'}\n",
      "Blocked      397 pairs with {'volume', 'pages', 'container_title_short'}\n",
      "Blocked      505 pairs with {'pages', 'year', 'container_title_short'}\n",
      "Blocked      405 pairs with {'volume', 'pages', 'year'}\n",
      "Blocked      368 pairs with {'pages', 'year', 'number'}\n",
      "Blocked      445 pairs with {'doi'}\n",
      "Blocked 123837 pairs\n",
      "Blocked pairs reduced to 10429 pairs\n",
      "Block completed after: 24.35 seconds\n",
      "Sim started at 2023-12-21 20:38:06\n",
      "Sim completed after: 3.50 seconds\n",
      "Match started at 2023-12-21 20:38:09\n",
      "Match completed after: 0.96 seconds\n",
      "Runtime: 0:00:39\n"
     ]
    },
    {
     "name": "stderr",
     "output_type": "stream",
     "text": [
      "/home/gerit/ownCloud/data/2021-CoLRev/bib-dedupe/bib_dedupe/dedupe_benchmark.py:407: SettingWithCopyWarning: \n",
      "A value is trying to be set on a copy of a slice from a DataFrame.\n",
      "Try using .loc[row_indexer,col_indexer] = value instead\n",
      "\n",
      "See the caveats in the documentation: https://pandas.pydata.org/pandas-docs/stable/user_guide/indexing.html#returning-a-view-versus-a-copy\n",
      "  maybe_cases_df.loc[:, \"case\"] = (\n"
     ]
    },
    {
     "name": "stdout",
     "output_type": "stream",
     "text": [
      "Export started at 2023-12-21 20:38:12\n",
      "Export completed after: 14.91 seconds\n",
      "Runtime: 0:00:00\n"
     ]
    },
    {
     "name": "stderr",
     "output_type": "stream",
     "text": [
      "/home/gerit/.local/lib/python3.8/site-packages/asreview/data/base.py:540: UserWarning: Boolean Series key will be reindexed to match DataFrame index.\n",
      "  df = self.df[~self.duplicated(pid)]\n"
     ]
    },
    {
     "name": "stdout",
     "output_type": "stream",
     "text": [
      "\n",
      "Dataset: diabetes\n",
      "Loaded 1845 records\n",
      "Prep started at 2023-12-21 20:38:28\n",
      "Warning: setting missing status\n",
      "Prep completed after: 2.65 seconds\n",
      "Block started at 2023-12-21 20:38:31\n",
      "Blocked     3234 pairs with {'author_first', 'year'}\n",
      "Blocked     2260 pairs with {'pages', 'title_short'}\n",
      "Blocked     2542 pairs with {'author_first', 'title_short'}\n",
      "Blocked     2622 pairs with {'year', 'title_short'}\n",
      "Blocked     3343 pairs with {'author_first', 'container_title_short'}Blocked     1863 pairs with {'volume', 'container_title_short', 'number'}\n",
      "\n",
      "Blocked     2434 pairs with {'container_title_short', 'title_short'}\n",
      "Blocked     2309 pairs with {'volume', 'title_short'}\n",
      "Blocked     5422 pairs with {'volume', 'year', 'container_title_short'}\n",
      "Blocked     2335 pairs with {'pages', 'year', 'container_title_short'}\n",
      "Blocked     2065 pairs with {'doi'}\n",
      "Blocked     1974 pairs with {'volume', 'year', 'number'}\n",
      "Blocked     2126 pairs with {'volume', 'pages', 'container_title_short'}\n",
      "Blocked     1339 pairs with {'pages', 'year', 'number'}\n",
      "Blocked     2138 pairs with {'volume', 'pages', 'year'}\n",
      "Blocked     1736 pairs with {'abstract'}\n",
      "Blocked 7735 pairs\n",
      "Blocked pairs reduced to 3186 pairs\n",
      "Block completed after: 1.79 seconds\n",
      "Sim started at 2023-12-21 20:38:33\n",
      "Sim completed after: 1.29 seconds\n",
      "Match started at 2023-12-21 20:38:34\n",
      "Match completed after: 1.23 seconds\n",
      "Runtime: 0:00:06\n"
     ]
    },
    {
     "name": "stderr",
     "output_type": "stream",
     "text": [
      "/home/gerit/ownCloud/data/2021-CoLRev/bib-dedupe/bib_dedupe/dedupe_benchmark.py:407: SettingWithCopyWarning: \n",
      "A value is trying to be set on a copy of a slice from a DataFrame.\n",
      "Try using .loc[row_indexer,col_indexer] = value instead\n",
      "\n",
      "See the caveats in the documentation: https://pandas.pydata.org/pandas-docs/stable/user_guide/indexing.html#returning-a-view-versus-a-copy\n",
      "  maybe_cases_df.loc[:, \"case\"] = (\n"
     ]
    },
    {
     "name": "stdout",
     "output_type": "stream",
     "text": [
      "Export started at 2023-12-21 20:38:36\n",
      "Export completed after: 1.08 seconds\n",
      "Runtime: 0:00:00\n",
      "\n",
      "Dataset: respiratory\n",
      "Loaded 1988 records\n",
      "Prep started at 2023-12-21 20:38:38\n",
      "Warning: setting missing status\n",
      "Prep completed after: 2.89 seconds\n",
      "Block started at 2023-12-21 20:38:41\n",
      "Blocked      624 pairs with {'author_first', 'year'}\n",
      "Blocked      467 pairs with {'volume', 'title_short'}\n",
      "Blocked      509 pairs with {'author_first', 'container_title_short'}\n",
      "Blocked      479 pairs with {'author_first', 'title_short'}\n",
      "Blocked      440 pairs with {'pages', 'title_short'}Blocked      482 pairs with {'year', 'title_short'}\n",
      "\n",
      "Blocked      395 pairs with {'container_title_short', 'title_short'}\n",
      "Blocked        0 pairs with {'volume', 'container_title_short', 'number'}\n",
      "Blocked     2058 pairs with {'volume', 'year', 'container_title_short'}\n",
      "Blocked      381 pairs with {'volume', 'pages', 'container_title_short'}\n",
      "Blocked      469 pairs with {'volume', 'pages', 'year'}\n",
      "Blocked      382 pairs with {'pages', 'year', 'container_title_short'}\n",
      "Blocked        0 pairs with {'pages', 'year', 'number'}\n",
      "Blocked        0 pairs with {'volume', 'year', 'number'}\n",
      "Blocked 2408 pairs\n",
      "Blocked pairs reduced to 697 pairs\n",
      "Block completed after: 7.46 seconds\n",
      "Sim started at 2023-12-21 20:38:49\n",
      "Sim completed after: 0.50 seconds\n",
      "Match started at 2023-12-21 20:38:49\n",
      "Match completed after: 0.79 seconds\n",
      "Runtime: 0:00:11\n"
     ]
    },
    {
     "name": "stderr",
     "output_type": "stream",
     "text": [
      "/home/gerit/ownCloud/data/2021-CoLRev/bib-dedupe/bib_dedupe/dedupe_benchmark.py:407: SettingWithCopyWarning: \n",
      "A value is trying to be set on a copy of a slice from a DataFrame.\n",
      "Try using .loc[row_indexer,col_indexer] = value instead\n",
      "\n",
      "See the caveats in the documentation: https://pandas.pydata.org/pandas-docs/stable/user_guide/indexing.html#returning-a-view-versus-a-copy\n",
      "  maybe_cases_df.loc[:, \"case\"] = (\n"
     ]
    },
    {
     "name": "stdout",
     "output_type": "stream",
     "text": [
      "Export started at 2023-12-21 20:38:51\n",
      "Export completed after: 1.04 seconds\n",
      "Runtime: 0:00:00\n",
      "\n",
      "Dataset: srsr\n",
      "Loaded 53001 records\n",
      "Prep started at 2023-12-21 20:38:53\n",
      "Warning: setting missing status\n",
      "Warning: Some records have empty title field. These records will be dropped.\n",
      "Prep completed after: 82.10 seconds\n",
      "Block started at 2023-12-21 20:40:16\n",
      "Blocked    29655 pairs with {'volume', 'container_title_short', 'number'}\n",
      "Blocked    89194 pairs with {'author_first', 'year'}\n",
      "Blocked    17239 pairs with {'pages', 'title_short'}\n",
      "Blocked    26714 pairs with {'author_first', 'container_title_short'}\n",
      "Blocked    21234 pairs with {'volume', 'title_short'}\n",
      "Blocked    21417 pairs with {'container_title_short', 'title_short'}\n",
      "Blocked    21661 pairs with {'author_first', 'title_short'}\n",
      "Blocked    22341 pairs with {'year', 'title_short'}\n",
      "Blocked   176650 pairs with {'volume', 'year', 'container_title_short'}\n",
      "Blocked    78909 pairs with {'volume', 'year', 'number'}\n",
      "Blocked    16360 pairs with {'volume', 'pages', 'container_title_short'}\n",
      "Blocked    15793 pairs with {'pages', 'year', 'number'}\n",
      "Blocked    21407 pairs with {'doi'}\n",
      "Blocked    16458 pairs with {'pages', 'year', 'container_title_short'}\n",
      "Blocked    17418 pairs with {'volume', 'pages', 'year'}\n",
      "Blocked     4765 pairs with {'abstract'}\n",
      "Blocked 305522 pairs\n",
      "Blocked pairs reduced to 26857 pairs\n",
      "Block completed after: 173.35 seconds\n",
      "Sim started at 2023-12-21 20:43:09\n",
      "Sim completed after: 10.40 seconds\n",
      "Match started at 2023-12-21 20:43:19\n",
      "Match completed after: 2.48 seconds\n",
      "Runtime: 0:04:28\n"
     ]
    },
    {
     "name": "stderr",
     "output_type": "stream",
     "text": [
      "/home/gerit/ownCloud/data/2021-CoLRev/bib-dedupe/bib_dedupe/match.py:184: SettingWithCopyWarning: \n",
      "A value is trying to be set on a copy of a slice from a DataFrame.\n",
      "Try using .loc[row_indexer,col_indexer] = value instead\n",
      "\n",
      "See the caveats in the documentation: https://pandas.pydata.org/pandas-docs/stable/user_guide/indexing.html#returning-a-view-versus-a-copy\n",
      "  updated_paper_pairs[\"duplicate_label\"] = \"updated_version\"\n",
      "/home/gerit/ownCloud/data/2021-CoLRev/bib-dedupe/bib_dedupe/dedupe_benchmark.py:407: SettingWithCopyWarning: \n",
      "A value is trying to be set on a copy of a slice from a DataFrame.\n",
      "Try using .loc[row_indexer,col_indexer] = value instead\n",
      "\n",
      "See the caveats in the documentation: https://pandas.pydata.org/pandas-docs/stable/user_guide/indexing.html#returning-a-view-versus-a-copy\n",
      "  maybe_cases_df.loc[:, \"case\"] = (\n"
     ]
    },
    {
     "name": "stdout",
     "output_type": "stream",
     "text": [
      "Export started at 2023-12-21 20:44:34\n",
      "Export completed after: 841.69 seconds\n"
     ]
    },
    {
     "name": "stderr",
     "output_type": "stream",
     "text": [
      "/home/gerit/.local/lib/python3.8/site-packages/asreview/data/base.py:540: UserWarning: Boolean Series key will be reindexed to match DataFrame index.\n",
      "  df = self.df[~self.duplicated(pid)]\n"
     ]
    },
    {
     "name": "stdout",
     "output_type": "stream",
     "text": [
      "Runtime: 0:00:02\n",
      "\n",
      "Dataset: depression\n",
      "Loaded 79880 records\n",
      "Prep started at 2023-12-21 20:59:47\n",
      "Warning: setting missing status\n",
      "Warning: Some records have empty title field. These records will be dropped.\n",
      "Prep completed after: 137.89 seconds\n",
      "Block started at 2023-12-21 21:02:05\n",
      "Blocked    47457 pairs with {'volume', 'container_title_short', 'number'}\n",
      "Blocked    62937 pairs with {'author_first', 'year'}\n",
      "Blocked    42010 pairs with {'author_first', 'container_title_short'}\n",
      "Blocked   266085 pairs with {'volume', 'year', 'container_title_short'}\n",
      "Blocked     4485 pairs with {'volume', 'title_short'}\n",
      "Blocked     8264 pairs with {'pages', 'title_short'}\n",
      "Blocked    14615 pairs with {'author_first', 'title_short'}\n",
      "Blocked    14145 pairs with {'container_title_short', 'title_short'}\n",
      "Blocked    14614 pairs with {'year', 'title_short'}\n",
      "Blocked    68593 pairs with {'volume', 'year', 'number'}\n",
      "Blocked     3688 pairs with {'doi'}\n",
      "Blocked     1564 pairs with {'volume', 'pages', 'container_title_short'}\n",
      "Blocked     9398 pairs with {'pages', 'year', 'container_title_short'}\n",
      "Blocked     8950 pairs with {'pages', 'year', 'number'}\n",
      "Blocked     1627 pairs with {'volume', 'pages', 'year'}\n",
      "Blocked     9923 pairs with {'abstract'}\n",
      "Blocked 384125 pairs\n",
      "Blocked pairs reduced to 20285 pairs\n",
      "Block completed after: 316.79 seconds\n",
      "Sim started at 2023-12-21 21:07:22\n",
      "Sim completed after: 7.58 seconds\n",
      "Match started at 2023-12-21 21:07:30\n",
      "Match completed after: 1.81 seconds\n",
      "Runtime: 0:07:44\n"
     ]
    },
    {
     "name": "stderr",
     "output_type": "stream",
     "text": [
      "/home/gerit/ownCloud/data/2021-CoLRev/bib-dedupe/bib_dedupe/match.py:184: SettingWithCopyWarning: \n",
      "A value is trying to be set on a copy of a slice from a DataFrame.\n",
      "Try using .loc[row_indexer,col_indexer] = value instead\n",
      "\n",
      "See the caveats in the documentation: https://pandas.pydata.org/pandas-docs/stable/user_guide/indexing.html#returning-a-view-versus-a-copy\n",
      "  updated_paper_pairs[\"duplicate_label\"] = \"updated_version\"\n",
      "/home/gerit/ownCloud/data/2021-CoLRev/bib-dedupe/bib_dedupe/dedupe_benchmark.py:407: SettingWithCopyWarning: \n",
      "A value is trying to be set on a copy of a slice from a DataFrame.\n",
      "Try using .loc[row_indexer,col_indexer] = value instead\n",
      "\n",
      "See the caveats in the documentation: https://pandas.pydata.org/pandas-docs/stable/user_guide/indexing.html#returning-a-view-versus-a-copy\n",
      "  maybe_cases_df.loc[:, \"case\"] = (\n"
     ]
    },
    {
     "name": "stdout",
     "output_type": "stream",
     "text": [
      "Export started at 2023-12-21 21:09:48\n",
      "Export completed after: 1818.70 seconds\n"
     ]
    },
    {
     "name": "stderr",
     "output_type": "stream",
     "text": [
      "/home/gerit/.local/lib/python3.8/site-packages/asreview/data/base.py:540: UserWarning: Boolean Series key will be reindexed to match DataFrame index.\n",
      "  df = self.df[~self.duplicated(pid)]\n"
     ]
    },
    {
     "name": "stdout",
     "output_type": "stream",
     "text": [
      "Runtime: 0:00:03\n",
      "\n",
      "Dataset: neuroimaging\n",
      "Loaded 3438 records\n",
      "Prep started at 2023-12-21 21:42:34\n",
      "Warning: setting missing status\n",
      "Prep completed after: 4.84 seconds\n",
      "Block started at 2023-12-21 21:42:39\n",
      "Blocked     1731 pairs with {'volume', 'container_title_short', 'number'}\n",
      "Blocked     2207 pairs with {'author_first', 'year'}\n",
      "Blocked     1692 pairs with {'volume', 'title_short'}\n",
      "Blocked     1699 pairs with {'author_first', 'title_short'}\n",
      "Blocked     1739 pairs with {'year', 'title_short'}\n",
      "Blocked     1639 pairs with {'container_title_short', 'title_short'}Blocked     1670 pairs with {'pages', 'title_short'}\n",
      "\n",
      "Blocked     1823 pairs with {'author_first', 'container_title_short'}\n",
      "Blocked     3208 pairs with {'volume', 'year', 'container_title_short'}\n",
      "Blocked     1988 pairs with {'volume', 'year', 'number'}\n",
      "Blocked     1392 pairs with {'pages', 'year', 'number'}\n",
      "Blocked     1642 pairs with {'volume', 'pages', 'container_title_short'}\n",
      "Blocked     1635 pairs with {'doi'}\n",
      "Blocked     1652 pairs with {'pages', 'year', 'container_title_short'}\n",
      "Blocked     1719 pairs with {'volume', 'pages', 'year'}\n",
      "Blocked      979 pairs with {'abstract'}\n",
      "Blocked 4381 pairs\n",
      "Blocked pairs reduced to 1922 pairs\n",
      "Block completed after: 10.79 seconds\n",
      "Sim started at 2023-12-21 21:42:50\n",
      "Sim completed after: 1.23 seconds\n",
      "Match started at 2023-12-21 21:42:51\n",
      "Match completed after: 1.05 seconds\n",
      "Runtime: 0:00:17\n"
     ]
    },
    {
     "name": "stderr",
     "output_type": "stream",
     "text": [
      "/home/gerit/ownCloud/data/2021-CoLRev/bib-dedupe/bib_dedupe/dedupe_benchmark.py:407: SettingWithCopyWarning: \n",
      "A value is trying to be set on a copy of a slice from a DataFrame.\n",
      "Try using .loc[row_indexer,col_indexer] = value instead\n",
      "\n",
      "See the caveats in the documentation: https://pandas.pydata.org/pandas-docs/stable/user_guide/indexing.html#returning-a-view-versus-a-copy\n",
      "  maybe_cases_df.loc[:, \"case\"] = (\n"
     ]
    },
    {
     "name": "stdout",
     "output_type": "stream",
     "text": [
      "Export started at 2023-12-21 21:42:53\n",
      "Export completed after: 3.16 seconds\n",
      "Runtime: 0:00:00\n",
      "\n",
      "Dataset: stroke\n",
      "Loaded 1292 records\n",
      "Prep started at 2023-12-21 21:42:57\n",
      "Warning: setting missing status\n",
      "Prep completed after: 1.98 seconds\n",
      "Block started at 2023-12-21 21:42:59\n",
      "Blocked      923 pairs with {'volume', 'container_title_short', 'number'}\n",
      "Blocked      595 pairs with {'author_first', 'year'}\n",
      "Blocked      445 pairs with {'pages', 'title_short'}\n",
      "Blocked      474 pairs with {'author_first', 'title_short'}Blocked      480 pairs with {'year', 'title_short'}Blocked      445 pairs with {'container_title_short', 'title_short'}\n",
      "\n",
      "\n",
      "Blocked      504 pairs with {'author_first', 'container_title_short'}\n",
      "Blocked      465 pairs with {'volume', 'title_short'}\n",
      "Blocked     3003 pairs with {'volume', 'year', 'container_title_short'}\n",
      "Blocked     1279 pairs with {'volume', 'year', 'number'}\n",
      "Blocked      431 pairs with {'pages', 'year', 'number'}\n",
      "Blocked      425 pairs with {'volume', 'pages', 'container_title_short'}\n",
      "Blocked      454 pairs with {'volume', 'pages', 'year'}\n",
      "Blocked      425 pairs with {'pages', 'year', 'container_title_short'}\n",
      "Blocked 3570 pairs\n",
      "Blocked pairs reduced to 581 pairs\n",
      "Block completed after: 4.19 seconds\n",
      "Sim started at 2023-12-21 21:43:04\n",
      "Sim completed after: 0.97 seconds\n",
      "Match started at 2023-12-21 21:43:05\n",
      "Match completed after: 1.19 seconds\n",
      "Runtime: 0:00:08\n"
     ]
    },
    {
     "name": "stderr",
     "output_type": "stream",
     "text": [
      "/home/gerit/ownCloud/data/2021-CoLRev/bib-dedupe/bib_dedupe/dedupe_benchmark.py:407: SettingWithCopyWarning: \n",
      "A value is trying to be set on a copy of a slice from a DataFrame.\n",
      "Try using .loc[row_indexer,col_indexer] = value instead\n",
      "\n",
      "See the caveats in the documentation: https://pandas.pydata.org/pandas-docs/stable/user_guide/indexing.html#returning-a-view-versus-a-copy\n",
      "  maybe_cases_df.loc[:, \"case\"] = (\n"
     ]
    },
    {
     "name": "stdout",
     "output_type": "stream",
     "text": [
      "Export started at 2023-12-21 21:43:07\n",
      "Export completed after: 0.48 seconds\n",
      "Runtime: 0:00:00\n",
      "\n",
      "Dataset: haematology\n",
      "Loaded 1415 records\n",
      "Prep started at 2023-12-21 21:43:08\n",
      "Warning: setting missing status\n",
      "Warning: Some records have empty title field. These records will be dropped.\n",
      "Prep completed after: 2.34 seconds\n",
      "Block started at 2023-12-21 21:43:10\n",
      "Blocked     1315 pairs with {'volume', 'container_title_short', 'number'}\n",
      "Blocked      459 pairs with {'author_first', 'container_title_short'}\n",
      "Blocked      514 pairs with {'author_first', 'year'}\n",
      "Blocked      141 pairs with {'author_first', 'title_short'}\n",
      "Blocked      127 pairs with {'volume', 'title_short'}Blocked      102 pairs with {'pages', 'title_short'}\n",
      "\n",
      "Blocked      145 pairs with {'year', 'title_short'}\n",
      "Blocked      126 pairs with {'container_title_short', 'title_short'}\n",
      "Blocked     3326 pairs with {'volume', 'year', 'container_title_short'}\n",
      "Blocked     1662 pairs with {'volume', 'year', 'number'}\n",
      "Blocked      127 pairs with {'pages', 'year', 'container_title_short'}\n",
      "Blocked      128 pairs with {'volume', 'pages', 'container_title_short'}\n",
      "Blocked      116 pairs with {'pages', 'year', 'number'}\n",
      "Blocked      139 pairs with {'volume', 'pages', 'year'}\n",
      "Blocked 4306 pairs\n",
      "Blocked pairs reduced to 799 pairs\n",
      "Block completed after: 6.62 seconds\n",
      "Sim started at 2023-12-21 21:43:17\n",
      "Sim completed after: 0.75 seconds\n",
      "Match started at 2023-12-21 21:43:17\n",
      "Match completed after: 0.93 seconds\n",
      "Runtime: 0:00:10\n"
     ]
    },
    {
     "name": "stderr",
     "output_type": "stream",
     "text": [
      "/home/gerit/ownCloud/data/2021-CoLRev/bib-dedupe/bib_dedupe/dedupe_benchmark.py:407: SettingWithCopyWarning: \n",
      "A value is trying to be set on a copy of a slice from a DataFrame.\n",
      "Try using .loc[row_indexer,col_indexer] = value instead\n",
      "\n",
      "See the caveats in the documentation: https://pandas.pydata.org/pandas-docs/stable/user_guide/indexing.html#returning-a-view-versus-a-copy\n",
      "  maybe_cases_df.loc[:, \"case\"] = (\n"
     ]
    },
    {
     "name": "stdout",
     "output_type": "stream",
     "text": [
      "Export started at 2023-12-21 21:43:19\n",
      "Export completed after: 0.62 seconds\n",
      "Runtime: 0:00:00\n"
     ]
    },
    {
     "name": "stderr",
     "output_type": "stream",
     "text": [
      "/home/gerit/.local/lib/python3.8/site-packages/asreview/data/base.py:540: UserWarning: Boolean Series key will be reindexed to match DataFrame index.\n",
      "  df = self.df[~self.duplicated(pid)]\n"
     ]
    },
    {
     "name": "stdout",
     "output_type": "stream",
     "text": [
      "\n",
      "Dataset: cardiac\n",
      "Loaded 8948 records\n",
      "Prep started at 2023-12-21 21:43:20\n",
      "Warning: setting missing status\n",
      "Warning: Some records have empty title field. These records will be dropped.\n",
      "Prep completed after: 17.24 seconds\n",
      "Block started at 2023-12-21 21:43:37\n",
      "Blocked     8804 pairs with {'author_first', 'year'}\n",
      "Blocked    12294 pairs with {'volume', 'container_title_short', 'number'}\n",
      "Blocked     6834 pairs with {'author_first', 'container_title_short'}\n",
      "Blocked     3465 pairs with {'pages', 'title_short'}\n",
      "Blocked     3561 pairs with {'year', 'title_short'}\n",
      "Blocked     3497 pairs with {'volume', 'title_short'}\n",
      "Blocked     3527 pairs with {'author_first', 'title_short'}\n",
      "Blocked    34102 pairs with {'volume', 'year', 'container_title_short'}\n",
      "Blocked     3184 pairs with {'container_title_short', 'title_short'}\n",
      "Blocked    13830 pairs with {'volume', 'year', 'number'}\n",
      "Blocked     3589 pairs with {'doi'}\n",
      "Blocked     3381 pairs with {'volume', 'pages', 'container_title_short'}\n",
      "Blocked     3747 pairs with {'volume', 'pages', 'year'}\n",
      "Blocked     3390 pairs with {'pages', 'year', 'container_title_short'}\n",
      "Blocked     3542 pairs with {'pages', 'year', 'number'}\n",
      "Blocked     1084 pairs with {'abstract'}\n",
      "Blocked 44416 pairs\n",
      "Blocked pairs reduced to 4833 pairs\n",
      "Block completed after: 24.12 seconds\n",
      "Sim started at 2023-12-21 21:44:02\n",
      "Sim completed after: 2.02 seconds\n",
      "Match started at 2023-12-21 21:44:04\n",
      "Match completed after: 0.95 seconds\n",
      "Runtime: 0:00:44\n"
     ]
    },
    {
     "name": "stderr",
     "output_type": "stream",
     "text": [
      "/home/gerit/ownCloud/data/2021-CoLRev/bib-dedupe/bib_dedupe/dedupe_benchmark.py:407: SettingWithCopyWarning: \n",
      "A value is trying to be set on a copy of a slice from a DataFrame.\n",
      "Try using .loc[row_indexer,col_indexer] = value instead\n",
      "\n",
      "See the caveats in the documentation: https://pandas.pydata.org/pandas-docs/stable/user_guide/indexing.html#returning-a-view-versus-a-copy\n",
      "  maybe_cases_df.loc[:, \"case\"] = (\n"
     ]
    },
    {
     "name": "stdout",
     "output_type": "stream",
     "text": [
      "Export started at 2023-12-21 21:44:08\n",
      "Export completed after: 25.75 seconds\n"
     ]
    },
    {
     "name": "stderr",
     "output_type": "stream",
     "text": [
      "/home/gerit/.local/lib/python3.8/site-packages/asreview/data/base.py:540: UserWarning: Boolean Series key will be reindexed to match DataFrame index.\n",
      "  df = self.df[~self.duplicated(pid)]\n"
     ]
    },
    {
     "name": "stdout",
     "output_type": "stream",
     "text": [
      "Runtime: 0:00:00\n",
      "\n",
      "Dataset: cytology_screening\n",
      "Loaded 1856 records\n",
      "Prep started at 2023-12-21 21:44:38\n",
      "Warning: setting missing status\n",
      "Prep completed after: 2.78 seconds\n",
      "Block started at 2023-12-21 21:44:41\n",
      "Blocked     3662 pairs with {'volume', 'year', 'container_title_short'}\n",
      "Blocked     1274 pairs with {'author_first', 'year'}\n",
      "Blocked      878 pairs with {'author_first', 'title_short'}\n",
      "Blocked     1139 pairs with {'author_first', 'container_title_short'}\n",
      "Blocked      811 pairs with {'pages', 'title_short'}\n",
      "Blocked      821 pairs with {'container_title_short', 'title_short'}\n",
      "Blocked      904 pairs with {'year', 'title_short'}\n",
      "Blocked      887 pairs with {'volume', 'title_short'}\n",
      "Blocked      773 pairs with {'volume', 'pages', 'container_title_short'}\n",
      "Blocked      836 pairs with {'volume', 'pages', 'year'}\n",
      "Blocked      772 pairs with {'pages', 'year', 'container_title_short'}\n",
      "Blocked 4375 pairs\n",
      "Blocked pairs reduced to 1106 pairs\n",
      "Block completed after: 2.88 seconds\n",
      "Sim started at 2023-12-21 21:44:44\n",
      "Sim completed after: 0.94 seconds\n",
      "Match started at 2023-12-21 21:44:45\n",
      "Match completed after: 1.30 seconds\n",
      "Runtime: 0:00:07\n"
     ]
    },
    {
     "name": "stderr",
     "output_type": "stream",
     "text": [
      "/home/gerit/ownCloud/data/2021-CoLRev/bib-dedupe/bib_dedupe/dedupe_benchmark.py:407: SettingWithCopyWarning: \n",
      "A value is trying to be set on a copy of a slice from a DataFrame.\n",
      "Try using .loc[row_indexer,col_indexer] = value instead\n",
      "\n",
      "See the caveats in the documentation: https://pandas.pydata.org/pandas-docs/stable/user_guide/indexing.html#returning-a-view-versus-a-copy\n",
      "  maybe_cases_df.loc[:, \"case\"] = (\n"
     ]
    },
    {
     "name": "stdout",
     "output_type": "stream",
     "text": [
      "Export started at 2023-12-21 21:44:47\n",
      "Export completed after: 1.06 seconds\n",
      "Runtime: 0:00:00\n",
      "\n"
     ]
    }
   ],
   "source": [
    "bd_util = BibDedupeUtil()\n",
    "merge_updated_papers = True\n",
    "\n",
    "# for benchmark_path in reversed(bd_util.get_dataset_labels()):\n",
    "for benchmark_path in bd_util.get_dataset_labels():\n",
    "    if benchmark_path in [\"problem_cases\"]: # \"problem_cases\" digital_work \"srsr\", \"depression\"\n",
    "         continue\n",
    "    print(f\"Dataset: {benchmark_path}\")\n",
    "    \n",
    "    dedupe_benchmark = DedupeBenchmarker(benchmark_path=f\"../data/{benchmark_path}\")\n",
    "    records_df = dedupe_benchmark.get_records_for_dedupe()\n",
    "    \n",
    "    # Bib-dedupe\n",
    "    timestamp = datetime.now()\n",
    "    records_df = prep(records_df)\n",
    "    actual_blocked_df = block(records_df=records_df)\n",
    "    matched_df = match(actual_blocked_df)\n",
    "    duplicate_id_sets = bib_dedupe.cluster.get_connected_components(matched_df)\n",
    "    merged_df = merge(records_df, duplicate_id_sets=duplicate_id_sets)\n",
    "    result = dedupe_benchmark.compare_dedupe_id(records_df=records_df, merged_df=merged_df, timestamp=timestamp)\n",
    "    bd_util.append_to_output(result, package_name=\"bib-dedupe\")\n",
    "\n",
    "    # More detailed comparison for debugging\n",
    "    dedupe_benchmark.export_cases(prepared_records_df=records_df, blocked_df=actual_blocked_df, matched_df=matched_df)\n",
    "    \n",
    "    # ASReview\n",
    "    asdata = ASReviewData(records_df)\n",
    "    timestamp = datetime.now()\n",
    "    merged_df = asdata.drop_duplicates()\n",
    "    result = dedupe_benchmark.compare_dedupe_id(records_df=records_df, merged_df=merged_df, timestamp=timestamp)\n",
    "    bd_util.append_to_output(result, package_name=\"asreview\")\n",
    "    print()\n",
    "    "
   ]
  }
 ],
 "metadata": {
  "kernelspec": {
   "display_name": "Python 3 (ipykernel)",
   "language": "python",
   "name": "python3"
  },
  "language_info": {
   "codemirror_mode": {
    "name": "ipython",
    "version": 3
   },
   "file_extension": ".py",
   "mimetype": "text/x-python",
   "name": "python",
   "nbconvert_exporter": "python",
   "pygments_lexer": "ipython3",
   "version": "3.8.10"
  }
 },
 "nbformat": 4,
 "nbformat_minor": 5
}
