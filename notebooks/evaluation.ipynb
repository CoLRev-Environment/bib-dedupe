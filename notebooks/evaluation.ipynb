{
 "cells": [
  {
   "cell_type": "markdown",
   "id": "db5ed449",
   "metadata": {},
   "source": [
    "# Evaluation"
   ]
  },
  {
   "cell_type": "code",
   "execution_count": 1,
   "id": "4a2f38c4",
   "metadata": {},
   "outputs": [],
   "source": [
    "from bib_dedupe.dedupe_benchmark import DedupeBenchmarker\n",
    "from bib_dedupe.bib_dedupe import BibDeduper\n",
    "from bib_dedupe.util import BibDedupeUtil\n",
    "import bib_dedupe.cluster\n",
    "from asreview.data import load_data, ASReviewData\n",
    "from datetime import datetime\n",
    "import pandas as pd"
   ]
  },
  {
   "cell_type": "code",
   "execution_count": 2,
   "id": "5f4d28f0",
   "metadata": {
    "scrolled": false
   },
   "outputs": [
    {
     "name": "stdout",
     "output_type": "stream",
     "text": [
      "Dataset: digital_work\n",
      "7159 records\n",
      "Prep started at 2023-12-13 10:08:20\n",
      "Prep completed after: 8.51 seconds\n",
      "Block started at 2023-12-13 10:08:28\n",
      "Blocked      104 pairs with {'abstract', 'short_title'}\n",
      "Blocked    10645 pairs with {'short_container_title', 'first_author'}\n",
      "Blocked     2677 pairs with {'first_author', 'year'}\n",
      "Blocked    28210 pairs with {'number', 'volume', 'year'}\n",
      "Blocked      763 pairs with {'short_title', 'pages'}\n",
      "Blocked      932 pairs with {'short_title', 'volume'}\n",
      "Blocked     5620 pairs with {'short_title', 'short_container_title'}\n",
      "Blocked      445 pairs with {'doi'}\n",
      "Blocked     4290 pairs with {'short_title', 'first_author'}\n",
      "Blocked    24194 pairs with {'number', 'short_container_title', 'volume'}\n",
      "Blocked   106595 pairs with {'short_container_title', 'volume', 'year'}\n",
      "Blocked     1059 pairs with {'short_title', 'year'}\n",
      "Blocked      368 pairs with {'year', 'number', 'pages'}\n",
      "Blocked      405 pairs with {'year', 'volume', 'pages'}\n",
      "Blocked      397 pairs with {'short_container_title', 'volume', 'pages'}\n",
      "Blocked      505 pairs with {'year', 'short_container_title', 'pages'}\n",
      "123837\n",
      "Blocked 10429 pairs\n",
      "Block completed after: 34.18 seconds\n",
      "Sim started at 2023-12-13 10:09:02\n",
      "Sim completed after: 3.54 seconds\n",
      "Match started at 2023-12-13 10:09:06\n",
      "Match completed after: 1.13 seconds\n",
      "Runtime: 0:00:38\n"
     ]
    },
    {
     "name": "stderr",
     "output_type": "stream",
     "text": [
      "/home/gerit/ownCloud/data/2021-CoLRev/bib-dedupe/bib_dedupe/dedupe_benchmark.py:406: SettingWithCopyWarning: \n",
      "A value is trying to be set on a copy of a slice from a DataFrame.\n",
      "Try using .loc[row_indexer,col_indexer] = value instead\n",
      "\n",
      "See the caveats in the documentation: https://pandas.pydata.org/pandas-docs/stable/user_guide/indexing.html#returning-a-view-versus-a-copy\n",
      "  maybe_cases_df[\"case\"] = maybe_cases_df[\"ID_1\"] + \";\" + maybe_cases_df[\"ID_2\"]\n"
     ]
    },
    {
     "name": "stdout",
     "output_type": "stream",
     "text": [
      "Export started at 2023-12-13 10:09:09\n",
      "Export completed after: 14.47 seconds\n",
      "Runtime: 0:00:00\n"
     ]
    },
    {
     "name": "stderr",
     "output_type": "stream",
     "text": [
      "/home/gerit/.local/lib/python3.8/site-packages/asreview/data/base.py:540: UserWarning: Boolean Series key will be reindexed to match DataFrame index.\n",
      "  df = self.df[~self.duplicated(pid)]\n"
     ]
    },
    {
     "name": "stdout",
     "output_type": "stream",
     "text": [
      "\n",
      "Dataset: diabetes\n",
      "1845 records\n",
      "Prep started at 2023-12-13 10:09:25\n",
      "setting missing status\n",
      "Prep completed after: 2.90 seconds\n",
      "Block started at 2023-12-13 10:09:27\n",
      "Blocked     2065 pairs with {'doi'}\n",
      "Blocked     3234 pairs with {'first_author', 'year'}\n",
      "Blocked     2260 pairs with {'short_title', 'pages'}\n",
      "Blocked     2542 pairs with {'short_title', 'first_author'}\n",
      "Blocked     2622 pairs with {'short_title', 'year'}\n",
      "Blocked     3343 pairs with {'short_container_title', 'first_author'}Blocked     2434 pairs with {'short_title', 'short_container_title'}\n",
      "\n",
      "Blocked     2309 pairs with {'short_title', 'volume'}\n",
      "Blocked     1974 pairs with {'number', 'volume', 'year'}\n",
      "Blocked     1730 pairs with {'abstract', 'short_title'}\n",
      "Blocked     1339 pairs with {'year', 'number', 'pages'}\n",
      "Blocked     2138 pairs with {'year', 'volume', 'pages'}\n",
      "Blocked     1863 pairs with {'number', 'short_container_title', 'volume'}\n",
      "Blocked     5422 pairs with {'short_container_title', 'volume', 'year'}\n",
      "Blocked     2335 pairs with {'year', 'short_container_title', 'pages'}\n",
      "Blocked     2126 pairs with {'short_container_title', 'volume', 'pages'}\n",
      "7735\n",
      "Blocked 3472 pairs\n",
      "Block completed after: 2.11 seconds\n",
      "Sim started at 2023-12-13 10:09:30\n",
      "Sim completed after: 1.32 seconds\n",
      "Match started at 2023-12-13 10:09:31\n",
      "Match completed after: 1.79 seconds\n",
      "Runtime: 0:00:05\n"
     ]
    },
    {
     "name": "stderr",
     "output_type": "stream",
     "text": [
      "/home/gerit/ownCloud/data/2021-CoLRev/bib-dedupe/bib_dedupe/dedupe_benchmark.py:406: SettingWithCopyWarning: \n",
      "A value is trying to be set on a copy of a slice from a DataFrame.\n",
      "Try using .loc[row_indexer,col_indexer] = value instead\n",
      "\n",
      "See the caveats in the documentation: https://pandas.pydata.org/pandas-docs/stable/user_guide/indexing.html#returning-a-view-versus-a-copy\n",
      "  maybe_cases_df[\"case\"] = maybe_cases_df[\"ID_1\"] + \";\" + maybe_cases_df[\"ID_2\"]\n"
     ]
    },
    {
     "name": "stdout",
     "output_type": "stream",
     "text": [
      "Export started at 2023-12-13 10:09:34\n",
      "Export completed after: 0.97 seconds\n",
      "Runtime: 0:00:00\n",
      "\n",
      "Dataset: respiratory\n",
      "1988 records\n",
      "Prep started at 2023-12-13 10:09:35\n",
      "setting missing status\n",
      "Prep completed after: 2.88 seconds\n",
      "Block started at 2023-12-13 10:09:38\n",
      "Blocked      479 pairs with {'short_title', 'first_author'}\n",
      "Blocked      440 pairs with {'short_title', 'pages'}\n",
      "Blocked      624 pairs with {'first_author', 'year'}\n",
      "Blocked      467 pairs with {'short_title', 'volume'}\n",
      "Blocked      509 pairs with {'short_container_title', 'first_author'}\n",
      "Blocked      395 pairs with {'short_title', 'short_container_title'}\n",
      "Blocked      482 pairs with {'short_title', 'year'}\n",
      "Blocked        0 pairs with {'number', 'volume', 'year'}\n",
      "Blocked     2058 pairs with {'short_container_title', 'volume', 'year'}\n",
      "Blocked      469 pairs with {'year', 'volume', 'pages'}\n",
      "Blocked      381 pairs with {'short_container_title', 'volume', 'pages'}\n",
      "Blocked      382 pairs with {'year', 'short_container_title', 'pages'}\n",
      "Blocked        0 pairs with {'year', 'number', 'pages'}\n",
      "Blocked        0 pairs with {'number', 'short_container_title', 'volume'}\n",
      "2408\n",
      "Blocked 696 pairs\n",
      "Block completed after: 5.97 seconds\n",
      "Sim started at 2023-12-13 10:09:44\n",
      "Sim completed after: 0.35 seconds\n",
      "Match started at 2023-12-13 10:09:45\n",
      "Match completed after: 0.77 seconds\n",
      "Runtime: 0:00:07\n"
     ]
    },
    {
     "name": "stderr",
     "output_type": "stream",
     "text": [
      "/home/gerit/ownCloud/data/2021-CoLRev/bib-dedupe/bib_dedupe/dedupe_benchmark.py:406: SettingWithCopyWarning: \n",
      "A value is trying to be set on a copy of a slice from a DataFrame.\n",
      "Try using .loc[row_indexer,col_indexer] = value instead\n",
      "\n",
      "See the caveats in the documentation: https://pandas.pydata.org/pandas-docs/stable/user_guide/indexing.html#returning-a-view-versus-a-copy\n",
      "  maybe_cases_df[\"case\"] = maybe_cases_df[\"ID_1\"] + \";\" + maybe_cases_df[\"ID_2\"]\n"
     ]
    },
    {
     "name": "stdout",
     "output_type": "stream",
     "text": [
      "Export started at 2023-12-13 10:09:46\n",
      "Export completed after: 1.17 seconds\n",
      "Runtime: 0:00:00\n",
      "\n",
      "Dataset: srsr\n",
      "53001 records\n",
      "Prep started at 2023-12-13 10:09:49\n",
      "setting missing status\n",
      "Warning: Some records have empty title field. These records will be dropped.\n",
      "Prep completed after: 84.14 seconds\n",
      "Block started at 2023-12-13 10:11:13\n",
      "Blocked    89194 pairs with {'first_author', 'year'}\n",
      "Blocked    21407 pairs with {'doi'}\n",
      "Blocked    17239 pairs with {'short_title', 'pages'}\n",
      "Blocked    21234 pairs with {'short_title', 'volume'}\n",
      "Blocked    21661 pairs with {'short_title', 'first_author'}\n",
      "Blocked    26641 pairs with {'short_container_title', 'first_author'}\n",
      "Blocked     4682 pairs with {'abstract', 'short_title'}\n",
      "Blocked    21391 pairs with {'short_title', 'short_container_title'}\n",
      "Blocked    78909 pairs with {'number', 'volume', 'year'}\n",
      "Blocked   176649 pairs with {'short_container_title', 'volume', 'year'}\n",
      "Blocked    29642 pairs with {'number', 'short_container_title', 'volume'}\n",
      "Blocked    15793 pairs with {'year', 'number', 'pages'}\n",
      "Blocked    22341 pairs with {'short_title', 'year'}\n",
      "Blocked    17418 pairs with {'year', 'volume', 'pages'}\n",
      "Blocked    16360 pairs with {'short_container_title', 'volume', 'pages'}\n",
      "Blocked    16458 pairs with {'year', 'short_container_title', 'pages'}\n",
      "305427\n",
      "Blocked 27264 pairs\n",
      "Block completed after: 161.87 seconds\n",
      "Sim started at 2023-12-13 10:13:55\n",
      "Sim completed after: 14.17 seconds\n",
      "Match started at 2023-12-13 10:14:09\n",
      "Match completed after: 12.63 seconds\n",
      "Runtime: 0:03:08\n"
     ]
    },
    {
     "name": "stderr",
     "output_type": "stream",
     "text": [
      "/home/gerit/ownCloud/data/2021-CoLRev/bib-dedupe/bib_dedupe/match.py:190: SettingWithCopyWarning: \n",
      "A value is trying to be set on a copy of a slice from a DataFrame.\n",
      "Try using .loc[row_indexer,col_indexer] = value instead\n",
      "\n",
      "See the caveats in the documentation: https://pandas.pydata.org/pandas-docs/stable/user_guide/indexing.html#returning-a-view-versus-a-copy\n",
      "  updated_paper_pairs[\"duplicate_label\"] = \"updated_version\"\n",
      "/home/gerit/ownCloud/data/2021-CoLRev/bib-dedupe/bib_dedupe/dedupe_benchmark.py:406: SettingWithCopyWarning: \n",
      "A value is trying to be set on a copy of a slice from a DataFrame.\n",
      "Try using .loc[row_indexer,col_indexer] = value instead\n",
      "\n",
      "See the caveats in the documentation: https://pandas.pydata.org/pandas-docs/stable/user_guide/indexing.html#returning-a-view-versus-a-copy\n",
      "  maybe_cases_df[\"case\"] = maybe_cases_df[\"ID_1\"] + \";\" + maybe_cases_df[\"ID_2\"]\n"
     ]
    },
    {
     "name": "stdout",
     "output_type": "stream",
     "text": [
      "Export started at 2023-12-13 10:15:53\n",
      "Export completed after: 1324.70 seconds\n"
     ]
    },
    {
     "name": "stderr",
     "output_type": "stream",
     "text": [
      "/home/gerit/.local/lib/python3.8/site-packages/asreview/data/base.py:540: UserWarning: Boolean Series key will be reindexed to match DataFrame index.\n",
      "  df = self.df[~self.duplicated(pid)]\n"
     ]
    },
    {
     "name": "stdout",
     "output_type": "stream",
     "text": [
      "Runtime: 0:00:02\n",
      "\n",
      "Dataset: depression\n",
      "79880 records\n",
      "Prep started at 2023-12-13 10:39:19\n",
      "setting missing status\n",
      "Warning: Some records have empty title field. These records will be dropped.\n",
      "Prep completed after: 145.83 seconds\n",
      "Block started at 2023-12-13 10:41:45\n",
      "Blocked     3688 pairs with {'doi'}\n",
      "Blocked    62937 pairs with {'first_author', 'year'}\n",
      "Blocked    42002 pairs with {'short_container_title', 'first_author'}\n",
      "Blocked     9755 pairs with {'abstract', 'short_title'}\n",
      "Blocked     4485 pairs with {'short_title', 'volume'}\n",
      "Blocked     8262 pairs with {'short_title', 'pages'}\n",
      "Blocked    14613 pairs with {'short_title', 'first_author'}\n",
      "Blocked    14144 pairs with {'short_title', 'short_container_title'}\n",
      "Blocked    68593 pairs with {'number', 'volume', 'year'}\n",
      "Blocked    14612 pairs with {'short_title', 'year'}\n",
      "Blocked   266085 pairs with {'short_container_title', 'volume', 'year'}\n",
      "Blocked    47457 pairs with {'number', 'short_container_title', 'volume'}\n",
      "Blocked     8950 pairs with {'year', 'number', 'pages'}\n",
      "Blocked     1627 pairs with {'year', 'volume', 'pages'}\n",
      "Blocked     1564 pairs with {'short_container_title', 'volume', 'pages'}\n",
      "Blocked     9399 pairs with {'year', 'short_container_title', 'pages'}\n",
      "384117\n",
      "Blocked 20280 pairs\n",
      "Block completed after: 338.29 seconds\n",
      "Sim started at 2023-12-13 10:47:23\n",
      "Sim completed after: 7.69 seconds\n",
      "Match started at 2023-12-13 10:47:31\n",
      "Match completed after: 9.53 seconds\n",
      "Runtime: 0:05:55\n"
     ]
    },
    {
     "name": "stderr",
     "output_type": "stream",
     "text": [
      "/home/gerit/ownCloud/data/2021-CoLRev/bib-dedupe/bib_dedupe/match.py:190: SettingWithCopyWarning: \n",
      "A value is trying to be set on a copy of a slice from a DataFrame.\n",
      "Try using .loc[row_indexer,col_indexer] = value instead\n",
      "\n",
      "See the caveats in the documentation: https://pandas.pydata.org/pandas-docs/stable/user_guide/indexing.html#returning-a-view-versus-a-copy\n",
      "  updated_paper_pairs[\"duplicate_label\"] = \"updated_version\"\n",
      "/home/gerit/ownCloud/data/2021-CoLRev/bib-dedupe/bib_dedupe/dedupe_benchmark.py:406: SettingWithCopyWarning: \n",
      "A value is trying to be set on a copy of a slice from a DataFrame.\n",
      "Try using .loc[row_indexer,col_indexer] = value instead\n",
      "\n",
      "See the caveats in the documentation: https://pandas.pydata.org/pandas-docs/stable/user_guide/indexing.html#returning-a-view-versus-a-copy\n",
      "  maybe_cases_df[\"case\"] = maybe_cases_df[\"ID_1\"] + \";\" + maybe_cases_df[\"ID_2\"]\n"
     ]
    },
    {
     "name": "stdout",
     "output_type": "stream",
     "text": [
      "Export started at 2023-12-13 10:50:05\n",
      "Export completed after: 2038.30 seconds\n"
     ]
    },
    {
     "name": "stderr",
     "output_type": "stream",
     "text": [
      "/home/gerit/.local/lib/python3.8/site-packages/asreview/data/base.py:540: UserWarning: Boolean Series key will be reindexed to match DataFrame index.\n",
      "  df = self.df[~self.duplicated(pid)]\n"
     ]
    },
    {
     "name": "stdout",
     "output_type": "stream",
     "text": [
      "Runtime: 0:00:04\n",
      "\n",
      "Dataset: neuroimaging\n",
      "3438 records\n",
      "Prep started at 2023-12-13 11:26:31\n",
      "setting missing status\n",
      "Prep completed after: 5.19 seconds\n",
      "Block started at 2023-12-13 11:26:36\n",
      "Blocked     1635 pairs with {'doi'}\n",
      "Blocked     2207 pairs with {'first_author', 'year'}\n",
      "Blocked     1670 pairs with {'short_title', 'pages'}\n",
      "Blocked     1692 pairs with {'short_title', 'volume'}\n",
      "Blocked     1774 pairs with {'short_container_title', 'first_author'}Blocked     1699 pairs with {'short_title', 'first_author'}\n",
      "\n",
      "Blocked     1629 pairs with {'short_title', 'short_container_title'}\n",
      "Blocked      959 pairs with {'abstract', 'short_title'}\n",
      "Blocked     1988 pairs with {'number', 'volume', 'year'}\n",
      "Blocked     3205 pairs with {'short_container_title', 'volume', 'year'}\n",
      "Blocked     1392 pairs with {'year', 'number', 'pages'}\n",
      "Blocked     1731 pairs with {'number', 'short_container_title', 'volume'}\n",
      "Blocked     1739 pairs with {'short_title', 'year'}\n",
      "Blocked     1719 pairs with {'year', 'volume', 'pages'}\n",
      "Blocked     1641 pairs with {'short_container_title', 'volume', 'pages'}\n",
      "Blocked     1646 pairs with {'year', 'short_container_title', 'pages'}\n",
      "4351\n",
      "Blocked 1917 pairs\n",
      "Block completed after: 11.03 seconds\n",
      "Sim started at 2023-12-13 11:26:47\n",
      "Sim completed after: 1.20 seconds\n",
      "Match started at 2023-12-13 11:26:49\n",
      "Match completed after: 2.05 seconds\n",
      "Runtime: 0:00:14\n"
     ]
    },
    {
     "name": "stderr",
     "output_type": "stream",
     "text": [
      "/home/gerit/ownCloud/data/2021-CoLRev/bib-dedupe/bib_dedupe/dedupe_benchmark.py:406: SettingWithCopyWarning: \n",
      "A value is trying to be set on a copy of a slice from a DataFrame.\n",
      "Try using .loc[row_indexer,col_indexer] = value instead\n",
      "\n",
      "See the caveats in the documentation: https://pandas.pydata.org/pandas-docs/stable/user_guide/indexing.html#returning-a-view-versus-a-copy\n",
      "  maybe_cases_df[\"case\"] = maybe_cases_df[\"ID_1\"] + \";\" + maybe_cases_df[\"ID_2\"]\n"
     ]
    },
    {
     "name": "stdout",
     "output_type": "stream",
     "text": [
      "Export started at 2023-12-13 11:26:52\n",
      "Export completed after: 3.28 seconds\n",
      "Runtime: 0:00:00\n",
      "\n",
      "Dataset: stroke\n",
      "1292 records\n",
      "Prep started at 2023-12-13 11:26:56\n",
      "setting missing status\n",
      "Prep completed after: 2.04 seconds\n",
      "Block started at 2023-12-13 11:26:58\n",
      "Blocked     1279 pairs with {'number', 'volume', 'year'}\n",
      "Blocked      501 pairs with {'short_container_title', 'first_author'}\n",
      "Blocked      465 pairs with {'short_title', 'volume'}\n",
      "Blocked      474 pairs with {'short_title', 'first_author'}\n",
      "Blocked      445 pairs with {'short_title', 'short_container_title'}Blocked      445 pairs with {'short_title', 'pages'}\n",
      "Blocked      480 pairs with {'short_title', 'year'}\n",
      "\n",
      "Blocked      595 pairs with {'first_author', 'year'}\n",
      "Blocked      454 pairs with {'year', 'volume', 'pages'}\n",
      "Blocked     3003 pairs with {'short_container_title', 'volume', 'year'}\n",
      "Blocked      923 pairs with {'number', 'short_container_title', 'volume'}\n",
      "Blocked      431 pairs with {'year', 'number', 'pages'}\n",
      "Blocked      425 pairs with {'short_container_title', 'volume', 'pages'}\n",
      "Blocked      425 pairs with {'year', 'short_container_title', 'pages'}\n",
      "3567\n",
      "Blocked 581 pairs\n",
      "Block completed after: 4.73 seconds\n",
      "Sim started at 2023-12-13 11:27:03\n",
      "Sim completed after: 1.08 seconds\n",
      "Match started at 2023-12-13 11:27:04\n",
      "Match completed after: 2.12 seconds\n",
      "Runtime: 0:00:07\n"
     ]
    },
    {
     "name": "stderr",
     "output_type": "stream",
     "text": [
      "/home/gerit/ownCloud/data/2021-CoLRev/bib-dedupe/bib_dedupe/dedupe_benchmark.py:406: SettingWithCopyWarning: \n",
      "A value is trying to be set on a copy of a slice from a DataFrame.\n",
      "Try using .loc[row_indexer,col_indexer] = value instead\n",
      "\n",
      "See the caveats in the documentation: https://pandas.pydata.org/pandas-docs/stable/user_guide/indexing.html#returning-a-view-versus-a-copy\n",
      "  maybe_cases_df[\"case\"] = maybe_cases_df[\"ID_1\"] + \";\" + maybe_cases_df[\"ID_2\"]\n"
     ]
    },
    {
     "name": "stdout",
     "output_type": "stream",
     "text": [
      "Export started at 2023-12-13 11:27:07\n",
      "Export completed after: 0.67 seconds\n",
      "Runtime: 0:00:00\n",
      "\n",
      "Dataset: haematology\n",
      "1415 records\n",
      "Prep started at 2023-12-13 11:27:08\n",
      "setting missing status\n",
      "Warning: Some records have empty title field. These records will be dropped.\n",
      "Prep completed after: 3.02 seconds\n",
      "Block started at 2023-12-13 11:27:11\n",
      "Blocked     1662 pairs with {'number', 'volume', 'year'}\n",
      "Blocked      514 pairs with {'first_author', 'year'}\n",
      "Blocked      102 pairs with {'short_title', 'pages'}\n",
      "Blocked      125 pairs with {'short_title', 'short_container_title'}\n",
      "Blocked      432 pairs with {'short_container_title', 'first_author'}\n",
      "Blocked      127 pairs with {'short_title', 'volume'}\n",
      "Blocked      145 pairs with {'short_title', 'year'}Blocked      141 pairs with {'short_title', 'first_author'}\n",
      "\n",
      "Blocked     3326 pairs with {'short_container_title', 'volume', 'year'}\n",
      "Blocked      139 pairs with {'year', 'volume', 'pages'}\n",
      "Blocked      116 pairs with {'year', 'number', 'pages'}\n",
      "Blocked     1315 pairs with {'number', 'short_container_title', 'volume'}\n",
      "Blocked      128 pairs with {'short_container_title', 'volume', 'pages'}\n",
      "Blocked      127 pairs with {'year', 'short_container_title', 'pages'}\n",
      "4297\n",
      "Blocked 796 pairs\n",
      "Block completed after: 7.44 seconds\n",
      "Sim started at 2023-12-13 11:27:19\n",
      "Sim completed after: 0.80 seconds\n",
      "Match started at 2023-12-13 11:27:20\n",
      "Match completed after: 0.92 seconds\n",
      "Runtime: 0:00:09\n"
     ]
    },
    {
     "name": "stderr",
     "output_type": "stream",
     "text": [
      "/home/gerit/ownCloud/data/2021-CoLRev/bib-dedupe/bib_dedupe/dedupe_benchmark.py:406: SettingWithCopyWarning: \n",
      "A value is trying to be set on a copy of a slice from a DataFrame.\n",
      "Try using .loc[row_indexer,col_indexer] = value instead\n",
      "\n",
      "See the caveats in the documentation: https://pandas.pydata.org/pandas-docs/stable/user_guide/indexing.html#returning-a-view-versus-a-copy\n",
      "  maybe_cases_df[\"case\"] = maybe_cases_df[\"ID_1\"] + \";\" + maybe_cases_df[\"ID_2\"]\n"
     ]
    },
    {
     "name": "stdout",
     "output_type": "stream",
     "text": [
      "Export started at 2023-12-13 11:27:21\n",
      "Export completed after: 0.64 seconds\n",
      "Runtime: 0:00:00\n"
     ]
    },
    {
     "name": "stderr",
     "output_type": "stream",
     "text": [
      "/home/gerit/.local/lib/python3.8/site-packages/asreview/data/base.py:540: UserWarning: Boolean Series key will be reindexed to match DataFrame index.\n",
      "  df = self.df[~self.duplicated(pid)]\n"
     ]
    },
    {
     "name": "stdout",
     "output_type": "stream",
     "text": [
      "\n",
      "Dataset: cardiac\n",
      "8948 records\n",
      "Prep started at 2023-12-13 11:27:23\n",
      "setting missing status\n",
      "Warning: Some records have empty title field. These records will be dropped.\n",
      "Prep completed after: 18.82 seconds\n",
      "Block started at 2023-12-13 11:27:42\n",
      "Blocked     8804 pairs with {'first_author', 'year'}\n",
      "Blocked     3589 pairs with {'doi'}\n",
      "Blocked     3465 pairs with {'short_title', 'pages'}\n",
      "Blocked     3525 pairs with {'short_title', 'first_author'}\n",
      "Blocked     6833 pairs with {'short_container_title', 'first_author'}\n",
      "Blocked     3497 pairs with {'short_title', 'volume'}\n",
      "Blocked     3184 pairs with {'short_title', 'short_container_title'}\n",
      "Blocked    13830 pairs with {'number', 'volume', 'year'}\n",
      "Blocked    34102 pairs with {'short_container_title', 'volume', 'year'}\n",
      "Blocked     3559 pairs with {'short_title', 'year'}\n",
      "Blocked    12294 pairs with {'number', 'short_container_title', 'volume'}\n",
      "Blocked     3747 pairs with {'year', 'volume', 'pages'}\n",
      "Blocked     1065 pairs with {'abstract', 'short_title'}\n",
      "Blocked     3542 pairs with {'year', 'number', 'pages'}\n",
      "Blocked     3390 pairs with {'year', 'short_container_title', 'pages'}\n",
      "Blocked     3381 pairs with {'short_container_title', 'volume', 'pages'}\n",
      "44415\n",
      "Blocked 5344 pairs\n",
      "Block completed after: 32.58 seconds\n",
      "Sim started at 2023-12-13 11:28:14\n",
      "Sim completed after: 2.62 seconds\n",
      "Match started at 2023-12-13 11:28:17\n",
      "Match completed after: 3.26 seconds\n",
      "Runtime: 0:00:38\n"
     ]
    },
    {
     "name": "stderr",
     "output_type": "stream",
     "text": [
      "/home/gerit/ownCloud/data/2021-CoLRev/bib-dedupe/bib_dedupe/dedupe_benchmark.py:406: SettingWithCopyWarning: \n",
      "A value is trying to be set on a copy of a slice from a DataFrame.\n",
      "Try using .loc[row_indexer,col_indexer] = value instead\n",
      "\n",
      "See the caveats in the documentation: https://pandas.pydata.org/pandas-docs/stable/user_guide/indexing.html#returning-a-view-versus-a-copy\n",
      "  maybe_cases_df[\"case\"] = maybe_cases_df[\"ID_1\"] + \";\" + maybe_cases_df[\"ID_2\"]\n"
     ]
    },
    {
     "name": "stdout",
     "output_type": "stream",
     "text": [
      "Export started at 2023-12-13 11:28:27\n",
      "Export completed after: 28.81 seconds\n"
     ]
    },
    {
     "name": "stderr",
     "output_type": "stream",
     "text": [
      "/home/gerit/.local/lib/python3.8/site-packages/asreview/data/base.py:540: UserWarning: Boolean Series key will be reindexed to match DataFrame index.\n",
      "  df = self.df[~self.duplicated(pid)]\n"
     ]
    },
    {
     "name": "stdout",
     "output_type": "stream",
     "text": [
      "Runtime: 0:00:00\n",
      "\n",
      "Dataset: cytology_screening\n",
      "1856 records\n",
      "Prep started at 2023-12-13 11:29:00\n",
      "setting missing status\n",
      "Prep completed after: 3.05 seconds\n",
      "Block started at 2023-12-13 11:29:03\n",
      "Blocked     1274 pairs with {'first_author', 'year'}\n",
      "Blocked     1129 pairs with {'short_container_title', 'first_author'}\n",
      "Blocked      836 pairs with {'year', 'volume', 'pages'}\n",
      "Blocked      904 pairs with {'short_title', 'year'}Blocked      878 pairs with {'short_title', 'first_author'}Blocked      887 pairs with {'short_title', 'volume'}\n",
      "\n",
      "\n",
      "Blocked      811 pairs with {'short_title', 'pages'}\n",
      "Blocked      821 pairs with {'short_title', 'short_container_title'}\n",
      "Blocked     3662 pairs with {'short_container_title', 'volume', 'year'}\n",
      "Blocked      772 pairs with {'year', 'short_container_title', 'pages'}\n",
      "Blocked      773 pairs with {'short_container_title', 'volume', 'pages'}\n",
      "4369\n",
      "Blocked 1106 pairs\n",
      "Block completed after: 3.58 seconds\n",
      "Sim started at 2023-12-13 11:29:06\n",
      "Sim completed after: 1.16 seconds\n",
      "Match started at 2023-12-13 11:29:07\n",
      "Match completed after: 2.22 seconds\n",
      "Runtime: 0:00:06\n"
     ]
    },
    {
     "name": "stderr",
     "output_type": "stream",
     "text": [
      "/home/gerit/ownCloud/data/2021-CoLRev/bib-dedupe/bib_dedupe/dedupe_benchmark.py:406: SettingWithCopyWarning: \n",
      "A value is trying to be set on a copy of a slice from a DataFrame.\n",
      "Try using .loc[row_indexer,col_indexer] = value instead\n",
      "\n",
      "See the caveats in the documentation: https://pandas.pydata.org/pandas-docs/stable/user_guide/indexing.html#returning-a-view-versus-a-copy\n",
      "  maybe_cases_df[\"case\"] = maybe_cases_df[\"ID_1\"] + \";\" + maybe_cases_df[\"ID_2\"]\n"
     ]
    },
    {
     "name": "stdout",
     "output_type": "stream",
     "text": [
      "Export started at 2023-12-13 11:29:11\n",
      "Export completed after: 1.19 seconds\n",
      "Runtime: 0:00:00\n",
      "\n"
     ]
    }
   ],
   "source": [
    "bd_util = BibDedupeUtil()\n",
    "merge_updated_papers = True\n",
    "\n",
    "# for benchmark_path in reversed(bd_util.get_dataset_labels()):\n",
    "for benchmark_path in bd_util.get_dataset_labels():\n",
    "    if benchmark_path in [\"problem_cases\"]: # \"problem_cases\" digital_work \"srsr\", \"depression\"\n",
    "         continue\n",
    "    print(f\"Dataset: {benchmark_path}\")\n",
    "    \n",
    "    dedupe_benchmark = DedupeBenchmarker(benchmark_path=f\"../data/{benchmark_path}\", merge_updated_papers=merge_updated_papers)\n",
    "    records_df = dedupe_benchmark.get_records_for_dedupe()\n",
    "    \n",
    "    # Bib-dedupe\n",
    "    dedupe_instance = BibDeduper()\n",
    "    timestamp = datetime.now()\n",
    "    actual_blocked_df = dedupe_instance.block(records_df=records_df)\n",
    "    matched_df = dedupe_instance.match(actual_blocked_df, merge_updated_papers=merge_updated_papers)\n",
    "    duplicate_id_sets = bib_dedupe.cluster.get_connected_components(matched_df)\n",
    "    merged_df = dedupe_instance.merge(records_df, duplicate_id_sets=duplicate_id_sets)\n",
    "    result = dedupe_benchmark.compare_dedupe_id(records_df=records_df, merged_df=merged_df, timestamp=timestamp)\n",
    "    bd_util.append_to_output(result, package_name=\"bib-dedupe\")\n",
    "\n",
    "    # More detailed comparison for debugging\n",
    "    dedupe_benchmark.export_cases(prepared_records_df=records_df, blocked_df=actual_blocked_df, matched_df=matched_df)\n",
    "    \n",
    "    # ASReview\n",
    "    asdata = ASReviewData(records_df)\n",
    "    timestamp = datetime.now()\n",
    "    merged_df = asdata.drop_duplicates()\n",
    "    result = dedupe_benchmark.compare_dedupe_id(records_df=records_df, merged_df=merged_df, timestamp=timestamp)\n",
    "    bd_util.append_to_output(result, package_name=\"asreview\")\n",
    "    print()\n",
    "    "
   ]
  }
 ],
 "metadata": {
  "kernelspec": {
   "display_name": "Python 3 (ipykernel)",
   "language": "python",
   "name": "python3"
  },
  "language_info": {
   "codemirror_mode": {
    "name": "ipython",
    "version": 3
   },
   "file_extension": ".py",
   "mimetype": "text/x-python",
   "name": "python",
   "nbconvert_exporter": "python",
   "pygments_lexer": "ipython3",
   "version": "3.8.10"
  }
 },
 "nbformat": 4,
 "nbformat_minor": 5
}
