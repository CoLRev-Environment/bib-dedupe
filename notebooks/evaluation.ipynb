{
 "cells": [
  {
   "cell_type": "markdown",
   "id": "db5ed449",
   "metadata": {},
   "source": [
    "# Evaluation"
   ]
  },
  {
   "cell_type": "code",
   "execution_count": null,
   "id": "4a2f38c4",
   "metadata": {},
   "outputs": [],
   "source": [
    "from bib_dedupe.dedupe_benchmark import DedupeBenchmarker\n",
    "from bib_dedupe.bib_dedupe import BibDeduper\n",
    "from bib_dedupe.util import BibDedupeUtil\n",
    "from asreview.data import load_data, ASReviewData\n",
    "from datetime import datetime\n",
    "import pandas as pd"
   ]
  },
  {
   "cell_type": "code",
   "execution_count": null,
   "id": "5f4d28f0",
   "metadata": {
    "scrolled": false
   },
   "outputs": [],
   "source": [
    "bd_util = BibDedupeUtil()\n",
    "merge_updated_papers = True\n",
    "\n",
    "# for benchmark_path in reversed(bd_util.get_dataset_labels()):\n",
    "for benchmark_path in bd_util.get_dataset_labels():\n",
    "    if benchmark_path in [\"problem_cases\"]: # \"problem_cases\" digital_work \"srsr\", \"depression\"\n",
    "         continue\n",
    "    print(f\"Dataset: {benchmark_path}\")\n",
    "    \n",
    "    dedupe_benchmark = DedupeBenchmarker(benchmark_path=f\"../data/{benchmark_path}\", merge_updated_papers=merge_updated_papers)\n",
    "    records_df = dedupe_benchmark.get_records_for_dedupe()\n",
    "    \n",
    "    # Bib-dedupe\n",
    "    dedupe_instance = BibDeduper()\n",
    "    timestamp = datetime.now()\n",
    "    actual_blocked_df = dedupe_instance.block(records_df=records_df)\n",
    "    matches = dedupe_instance.match(actual_blocked_df, merge_updated_papers=merge_updated_papers)\n",
    "    merged_df = dedupe_instance.merge(records_df, matches=matches)\n",
    "    result = dedupe_benchmark.compare_dedupe_id(records_df=records_df, merged_df=merged_df, timestamp=timestamp)\n",
    "    bd_util.append_to_output(result, package_name=\"bib-dedupe\")\n",
    "\n",
    "    # More detailed comparison for debugging\n",
    "    dedupe_benchmark.export_cases(prepared_records_df=records_df, blocked_df=actual_blocked_df, matches=matches)\n",
    "    \n",
    "    # ASReview\n",
    "    asdata = ASReviewData(records_df)\n",
    "    timestamp = datetime.now()\n",
    "    merged_df = asdata.drop_duplicates()\n",
    "    result = dedupe_benchmark.compare_dedupe_id(records_df=records_df, merged_df=merged_df, timestamp=timestamp)\n",
    "    bd_util.append_to_output(result, package_name=\"asreview\")\n",
    "    print()\n",
    "    "
   ]
  }
 ],
 "metadata": {
  "kernelspec": {
   "display_name": "Python 3 (ipykernel)",
   "language": "python",
   "name": "python3"
  },
  "language_info": {
   "codemirror_mode": {
    "name": "ipython",
    "version": 3
   },
   "file_extension": ".py",
   "mimetype": "text/x-python",
   "name": "python",
   "nbconvert_exporter": "python",
   "pygments_lexer": "ipython3",
   "version": "3.8.10"
  }
 },
 "nbformat": 4,
 "nbformat_minor": 5
}
